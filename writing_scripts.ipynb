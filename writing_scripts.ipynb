{
 "cells": [
  {
   "cell_type": "code",
   "execution_count": 40,
   "metadata": {
    "ExecuteTime": {
     "end_time": "2020-03-01T07:01:15.073069Z",
     "start_time": "2020-03-01T07:01:15.068614Z"
    }
   },
   "outputs": [],
   "source": [
    "import numpy as np\n",
    "import pandas as pd"
   ]
  },
  {
   "cell_type": "markdown",
   "metadata": {},
   "source": [
    "# make data"
   ]
  },
  {
   "cell_type": "code",
   "execution_count": 123,
   "metadata": {
    "ExecuteTime": {
     "end_time": "2020-03-01T07:36:48.712264Z",
     "start_time": "2020-03-01T07:36:48.705098Z"
    }
   },
   "outputs": [
    {
     "name": "stdout",
     "output_type": "stream",
     "text": [
      "Overwriting gen_data.py\n"
     ]
    }
   ],
   "source": [
    "%%writefile gen_data.py\n",
    "import numpy as np\n",
    "import pandas as pd\n",
    "import argparse\n",
    "\n",
    "parser = argparse.ArgumentParser()\n",
    "parser.add_argument('--data', '-d', help='specify data amount')\n",
    "args = parser.parse_args()\n",
    "if args.data:\n",
    "    n = int(args.data)\n",
    "else:\n",
    "    n = 1000\n",
    "\n",
    "X = np.random.randn(n,4)\n",
    "noise = np.random.randn(n)/20\n",
    "y = np.sum(X * [1,2,3,4], axis=1) + noise\n",
    "df = pd.DataFrame(X, columns=['x1', 'x2', 'x3', 'x4'])\n",
    "df['target'] = y\n",
    "for col in df.columns:\n",
    "    df[col] = \"'\"+df[col].astype(str)+\"'\"\n",
    "\n",
    "df.to_csv('data.csv')"
   ]
  },
  {
   "cell_type": "markdown",
   "metadata": {},
   "source": [
    "# clean data"
   ]
  },
  {
   "cell_type": "code",
   "execution_count": 120,
   "metadata": {
    "ExecuteTime": {
     "end_time": "2020-03-01T07:32:22.141752Z",
     "start_time": "2020-03-01T07:32:22.134655Z"
    },
    "scrolled": true
   },
   "outputs": [
    {
     "name": "stdout",
     "output_type": "stream",
     "text": [
      "Overwriting clean_data.py\n"
     ]
    }
   ],
   "source": [
    "%%writefile clean_data.py\n",
    "# %load clean_data.py\n",
    "import pandas as pd\n",
    "\n",
    "df = pd.read_csv('data.csv', index_col=0)\n",
    "print('Original Data format (note data is strings):')\n",
    "print(df)\n",
    "print('Turn strings into ints and write out cleaned_data.csv')\n",
    "for col in df.columns:\n",
    "    df[col] = df[col].str.replace(\"'\", \"\").astype(float)\n",
    "print(df)\n",
    "df.to_csv('cleaned_data.csv')"
   ]
  },
  {
   "cell_type": "markdown",
   "metadata": {},
   "source": [
    "# model"
   ]
  },
  {
   "cell_type": "code",
   "execution_count": 121,
   "metadata": {
    "ExecuteTime": {
     "end_time": "2020-03-01T07:34:43.013311Z",
     "start_time": "2020-03-01T07:34:43.005968Z"
    },
    "scrolled": true
   },
   "outputs": [
    {
     "name": "stdout",
     "output_type": "stream",
     "text": [
      "Overwriting train.py\n"
     ]
    }
   ],
   "source": [
    "%%writefile train.py\n",
    "# %load model.py\n",
    "import pandas as pd\n",
    "from sklearn.linear_model import LinearRegression\n",
    "from sklearn.metrics import mean_squared_error\n",
    "from joblib import dump\n",
    "import json\n",
    "\n",
    "df = pd.read_csv('cleaned_data.csv', index_col=0)\n",
    "train = df[:-2]\n",
    "valid = df[-2:]\n",
    "y_train = train['target']\n",
    "X_train = train.drop('target', axis=1)\n",
    "y_valid = valid['target']\n",
    "X_valid = valid.drop('target', axis=1)\n",
    "\n",
    "reg = LinearRegression().fit(X_train,y_train)\n",
    "y_pred = reg.predict(X_valid)\n",
    "mse = mean_squared_error(y_valid, y_pred)\n",
    "print(f'Mean Squared Error: {mse}')\n",
    "print(f'Coefficients: {reg.coef_}')\n",
    "      \n",
    "# save model\n",
    "dump(reg, 'linear_regressor.joblib')\n",
    "\n",
    "# write metrics\n",
    "with open('mse.json', 'w+') as f:\n",
    "    json.dump({'mse':mse}, f)"
   ]
  },
  {
   "cell_type": "code",
   "execution_count": null,
   "metadata": {},
   "outputs": [],
   "source": []
  },
  {
   "cell_type": "code",
   "execution_count": 107,
   "metadata": {
    "ExecuteTime": {
     "end_time": "2020-03-01T07:15:43.725901Z",
     "start_time": "2020-03-01T07:15:43.718843Z"
    }
   },
   "outputs": [
    {
     "data": {
      "text/plain": [
       "array([0.99844104, 1.00035375, 0.99836077, 0.99975128])"
      ]
     },
     "execution_count": 107,
     "metadata": {},
     "output_type": "execute_result"
    }
   ],
   "source": [
    "reg.coef_"
   ]
  },
  {
   "cell_type": "code",
   "execution_count": 108,
   "metadata": {
    "ExecuteTime": {
     "end_time": "2020-03-01T07:15:48.921240Z",
     "start_time": "2020-03-01T07:15:48.904717Z"
    }
   },
   "outputs": [
    {
     "data": {
      "text/html": [
       "<div>\n",
       "<style scoped>\n",
       "    .dataframe tbody tr th:only-of-type {\n",
       "        vertical-align: middle;\n",
       "    }\n",
       "\n",
       "    .dataframe tbody tr th {\n",
       "        vertical-align: top;\n",
       "    }\n",
       "\n",
       "    .dataframe thead th {\n",
       "        text-align: right;\n",
       "    }\n",
       "</style>\n",
       "<table border=\"1\" class=\"dataframe\">\n",
       "  <thead>\n",
       "    <tr style=\"text-align: right;\">\n",
       "      <th></th>\n",
       "      <th>x1</th>\n",
       "      <th>x2</th>\n",
       "      <th>x3</th>\n",
       "      <th>x4</th>\n",
       "      <th>target</th>\n",
       "    </tr>\n",
       "  </thead>\n",
       "  <tbody>\n",
       "    <tr>\n",
       "      <th>0</th>\n",
       "      <td>-1.705263</td>\n",
       "      <td>0.392149</td>\n",
       "      <td>1.400464</td>\n",
       "      <td>-0.136336</td>\n",
       "      <td>-0.089926</td>\n",
       "    </tr>\n",
       "    <tr>\n",
       "      <th>1</th>\n",
       "      <td>-0.574122</td>\n",
       "      <td>1.483284</td>\n",
       "      <td>-0.573647</td>\n",
       "      <td>-1.504295</td>\n",
       "      <td>-1.244547</td>\n",
       "    </tr>\n",
       "    <tr>\n",
       "      <th>2</th>\n",
       "      <td>-1.342138</td>\n",
       "      <td>-2.760512</td>\n",
       "      <td>1.755665</td>\n",
       "      <td>0.904369</td>\n",
       "      <td>-1.436583</td>\n",
       "    </tr>\n",
       "    <tr>\n",
       "      <th>3</th>\n",
       "      <td>1.237557</td>\n",
       "      <td>1.488433</td>\n",
       "      <td>1.890893</td>\n",
       "      <td>0.000345</td>\n",
       "      <td>4.546877</td>\n",
       "    </tr>\n",
       "    <tr>\n",
       "      <th>4</th>\n",
       "      <td>0.327471</td>\n",
       "      <td>0.899484</td>\n",
       "      <td>-0.697811</td>\n",
       "      <td>1.922400</td>\n",
       "      <td>2.509720</td>\n",
       "    </tr>\n",
       "    <tr>\n",
       "      <th>...</th>\n",
       "      <td>...</td>\n",
       "      <td>...</td>\n",
       "      <td>...</td>\n",
       "      <td>...</td>\n",
       "      <td>...</td>\n",
       "    </tr>\n",
       "    <tr>\n",
       "      <th>995</th>\n",
       "      <td>0.982858</td>\n",
       "      <td>2.208287</td>\n",
       "      <td>0.288221</td>\n",
       "      <td>0.324280</td>\n",
       "      <td>3.757028</td>\n",
       "    </tr>\n",
       "    <tr>\n",
       "      <th>996</th>\n",
       "      <td>-2.385402</td>\n",
       "      <td>1.086120</td>\n",
       "      <td>-1.535742</td>\n",
       "      <td>1.892268</td>\n",
       "      <td>-0.952748</td>\n",
       "    </tr>\n",
       "    <tr>\n",
       "      <th>997</th>\n",
       "      <td>0.795285</td>\n",
       "      <td>0.311871</td>\n",
       "      <td>1.475341</td>\n",
       "      <td>0.668045</td>\n",
       "      <td>3.233518</td>\n",
       "    </tr>\n",
       "    <tr>\n",
       "      <th>998</th>\n",
       "      <td>0.224303</td>\n",
       "      <td>-0.226151</td>\n",
       "      <td>-0.021580</td>\n",
       "      <td>-0.458110</td>\n",
       "      <td>-0.441979</td>\n",
       "    </tr>\n",
       "    <tr>\n",
       "      <th>999</th>\n",
       "      <td>-1.456204</td>\n",
       "      <td>-0.758054</td>\n",
       "      <td>-0.306044</td>\n",
       "      <td>1.157657</td>\n",
       "      <td>-1.249592</td>\n",
       "    </tr>\n",
       "  </tbody>\n",
       "</table>\n",
       "<p>1000 rows × 5 columns</p>\n",
       "</div>"
      ],
      "text/plain": [
       "           x1        x2        x3        x4    target\n",
       "0   -1.705263  0.392149  1.400464 -0.136336 -0.089926\n",
       "1   -0.574122  1.483284 -0.573647 -1.504295 -1.244547\n",
       "2   -1.342138 -2.760512  1.755665  0.904369 -1.436583\n",
       "3    1.237557  1.488433  1.890893  0.000345  4.546877\n",
       "4    0.327471  0.899484 -0.697811  1.922400  2.509720\n",
       "..        ...       ...       ...       ...       ...\n",
       "995  0.982858  2.208287  0.288221  0.324280  3.757028\n",
       "996 -2.385402  1.086120 -1.535742  1.892268 -0.952748\n",
       "997  0.795285  0.311871  1.475341  0.668045  3.233518\n",
       "998  0.224303 -0.226151 -0.021580 -0.458110 -0.441979\n",
       "999 -1.456204 -0.758054 -0.306044  1.157657 -1.249592\n",
       "\n",
       "[1000 rows x 5 columns]"
      ]
     },
     "execution_count": 108,
     "metadata": {},
     "output_type": "execute_result"
    }
   ],
   "source": [
    "df"
   ]
  },
  {
   "cell_type": "code",
   "execution_count": 19,
   "metadata": {
    "ExecuteTime": {
     "end_time": "2020-03-01T06:53:33.414859Z",
     "start_time": "2020-03-01T06:53:33.401409Z"
    }
   },
   "outputs": [
    {
     "data": {
      "text/html": [
       "<div>\n",
       "<style scoped>\n",
       "    .dataframe tbody tr th:only-of-type {\n",
       "        vertical-align: middle;\n",
       "    }\n",
       "\n",
       "    .dataframe tbody tr th {\n",
       "        vertical-align: top;\n",
       "    }\n",
       "\n",
       "    .dataframe thead th {\n",
       "        text-align: right;\n",
       "    }\n",
       "</style>\n",
       "<table border=\"1\" class=\"dataframe\">\n",
       "  <thead>\n",
       "    <tr style=\"text-align: right;\">\n",
       "      <th></th>\n",
       "      <th>A</th>\n",
       "      <th>B</th>\n",
       "      <th>C</th>\n",
       "      <th>D</th>\n",
       "      <th>target</th>\n",
       "    </tr>\n",
       "    <tr>\n",
       "      <th>Date</th>\n",
       "      <th></th>\n",
       "      <th></th>\n",
       "      <th></th>\n",
       "      <th></th>\n",
       "      <th></th>\n",
       "    </tr>\n",
       "  </thead>\n",
       "  <tbody>\n",
       "    <tr>\n",
       "      <th>1/1/2020</th>\n",
       "      <td>1</td>\n",
       "      <td>2</td>\n",
       "      <td>3</td>\n",
       "      <td>4</td>\n",
       "      <td>10</td>\n",
       "    </tr>\n",
       "    <tr>\n",
       "      <th>1/2/2020</th>\n",
       "      <td>10</td>\n",
       "      <td>4</td>\n",
       "      <td>20</td>\n",
       "      <td>5</td>\n",
       "      <td>40</td>\n",
       "    </tr>\n",
       "    <tr>\n",
       "      <th>1/3/2020</th>\n",
       "      <td>5</td>\n",
       "      <td>100</td>\n",
       "      <td>0</td>\n",
       "      <td>0</td>\n",
       "      <td>103</td>\n",
       "    </tr>\n",
       "    <tr>\n",
       "      <th>1/4/2020</th>\n",
       "      <td>5</td>\n",
       "      <td>15</td>\n",
       "      <td>5</td>\n",
       "      <td>200</td>\n",
       "      <td>227</td>\n",
       "    </tr>\n",
       "  </tbody>\n",
       "</table>\n",
       "</div>"
      ],
      "text/plain": [
       "           A    B   C    D  target\n",
       "Date                              \n",
       "1/1/2020   1    2   3    4      10\n",
       "1/2/2020  10    4  20    5      40\n",
       "1/3/2020   5  100   0    0     103\n",
       "1/4/2020   5   15   5  200     227"
      ]
     },
     "execution_count": 19,
     "metadata": {},
     "output_type": "execute_result"
    }
   ],
   "source": [
    "train"
   ]
  },
  {
   "cell_type": "code",
   "execution_count": 16,
   "metadata": {
    "ExecuteTime": {
     "end_time": "2020-03-01T06:52:58.454058Z",
     "start_time": "2020-03-01T06:52:58.441224Z"
    }
   },
   "outputs": [
    {
     "data": {
      "text/html": [
       "<div>\n",
       "<style scoped>\n",
       "    .dataframe tbody tr th:only-of-type {\n",
       "        vertical-align: middle;\n",
       "    }\n",
       "\n",
       "    .dataframe tbody tr th {\n",
       "        vertical-align: top;\n",
       "    }\n",
       "\n",
       "    .dataframe thead th {\n",
       "        text-align: right;\n",
       "    }\n",
       "</style>\n",
       "<table border=\"1\" class=\"dataframe\">\n",
       "  <thead>\n",
       "    <tr style=\"text-align: right;\">\n",
       "      <th></th>\n",
       "      <th>A</th>\n",
       "      <th>B</th>\n",
       "      <th>C</th>\n",
       "      <th>D</th>\n",
       "    </tr>\n",
       "    <tr>\n",
       "      <th>Date</th>\n",
       "      <th></th>\n",
       "      <th></th>\n",
       "      <th></th>\n",
       "      <th></th>\n",
       "    </tr>\n",
       "  </thead>\n",
       "  <tbody>\n",
       "    <tr>\n",
       "      <th>1/1/2020</th>\n",
       "      <td>1</td>\n",
       "      <td>2</td>\n",
       "      <td>3</td>\n",
       "      <td>4</td>\n",
       "    </tr>\n",
       "    <tr>\n",
       "      <th>1/2/2020</th>\n",
       "      <td>10</td>\n",
       "      <td>4</td>\n",
       "      <td>20</td>\n",
       "      <td>5</td>\n",
       "    </tr>\n",
       "    <tr>\n",
       "      <th>1/3/2020</th>\n",
       "      <td>5</td>\n",
       "      <td>100</td>\n",
       "      <td>0</td>\n",
       "      <td>0</td>\n",
       "    </tr>\n",
       "    <tr>\n",
       "      <th>1/4/2020</th>\n",
       "      <td>5</td>\n",
       "      <td>15</td>\n",
       "      <td>5</td>\n",
       "      <td>200</td>\n",
       "    </tr>\n",
       "    <tr>\n",
       "      <th>1/5/2020</th>\n",
       "      <td>300</td>\n",
       "      <td>200</td>\n",
       "      <td>10</td>\n",
       "      <td>10</td>\n",
       "    </tr>\n",
       "    <tr>\n",
       "      <th>1/6/2020</th>\n",
       "      <td>18</td>\n",
       "      <td>12</td>\n",
       "      <td>17</td>\n",
       "      <td>2</td>\n",
       "    </tr>\n",
       "  </tbody>\n",
       "</table>\n",
       "</div>"
      ],
      "text/plain": [
       "            A    B   C    D\n",
       "Date                       \n",
       "1/1/2020    1    2   3    4\n",
       "1/2/2020   10    4  20    5\n",
       "1/3/2020    5  100   0    0\n",
       "1/4/2020    5   15   5  200\n",
       "1/5/2020  300  200  10   10\n",
       "1/6/2020   18   12  17    2"
      ]
     },
     "execution_count": 16,
     "metadata": {},
     "output_type": "execute_result"
    }
   ],
   "source": [
    "X"
   ]
  },
  {
   "cell_type": "code",
   "execution_count": null,
   "metadata": {},
   "outputs": [],
   "source": []
  }
 ],
 "metadata": {
  "kernelspec": {
   "display_name": "Python [conda env:all_ds]",
   "language": "python",
   "name": "conda-env-all_ds-py"
  },
  "language_info": {
   "codemirror_mode": {
    "name": "ipython",
    "version": 3
   },
   "file_extension": ".py",
   "mimetype": "text/x-python",
   "name": "python",
   "nbconvert_exporter": "python",
   "pygments_lexer": "ipython3",
   "version": "3.7.4"
  }
 },
 "nbformat": 4,
 "nbformat_minor": 2
}
