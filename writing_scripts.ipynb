{
 "cells": [
  {
   "cell_type": "code",
   "execution_count": 40,
   "metadata": {
    "ExecuteTime": {
     "end_time": "2020-03-01T07:01:15.073069Z",
     "start_time": "2020-03-01T07:01:15.068614Z"
    }
   },
   "outputs": [],
   "source": [
    "import numpy as np\n",
    "import pandas as pd"
   ]
  },
  {
   "cell_type": "markdown",
   "metadata": {},
   "source": [
    "# make data"
   ]
  },
  {
   "cell_type": "code",
   "execution_count": 129,
   "metadata": {
    "ExecuteTime": {
     "end_time": "2020-03-01T08:01:14.774741Z",
     "start_time": "2020-03-01T08:01:14.767597Z"
    }
   },
   "outputs": [
    {
     "name": "stdout",
     "output_type": "stream",
     "text": [
      "Overwriting gen_data.py\n"
     ]
    }
   ],
   "source": [
    "%%writefile gen_data.py\n",
    "import numpy as np\n",
    "import pandas as pd\n",
    "import argparse\n",
    "\n",
    "parser = argparse.ArgumentParser()\n",
    "parser.add_argument('--data', '-d', help='specify data amount')\n",
    "parser.add_argument('--coef', '-c', help='specify data amount')\n",
    "args = parser.parse_args()\n",
    "if args.data:\n",
    "    n = int(args.data)\n",
    "else:\n",
    "    n = 1000\n",
    "if args.coef:\n",
    "    coef = args.coef.split(',')\n",
    "    coef = [int(x) for x in coef]\n",
    "else:\n",
    "    coef = [1,2,3,4]\n",
    "\n",
    "X = np.random.randn(n,4)\n",
    "noise = np.random.randn(n)/20\n",
    "y = np.sum(X * coef, axis=1) + noise\n",
    "df = pd.DataFrame(X, columns=['x1', 'x2', 'x3', 'x4'])\n",
    "df['target'] = y\n",
    "for col in df.columns:\n",
    "    df[col] = \"'\"+df[col].astype(str)+\"'\"\n",
    "\n",
    "df.to_csv('data.csv')"
   ]
  },
  {
   "cell_type": "markdown",
   "metadata": {},
   "source": [
    "# clean data"
   ]
  },
  {
   "cell_type": "code",
   "execution_count": 120,
   "metadata": {
    "ExecuteTime": {
     "end_time": "2020-03-01T07:32:22.141752Z",
     "start_time": "2020-03-01T07:32:22.134655Z"
    },
    "scrolled": true
   },
   "outputs": [
    {
     "name": "stdout",
     "output_type": "stream",
     "text": [
      "Overwriting clean_data.py\n"
     ]
    }
   ],
   "source": [
    "%%writefile clean_data.py\n",
    "# %load clean_data.py\n",
    "import pandas as pd\n",
    "\n",
    "df = pd.read_csv('data.csv', index_col=0)\n",
    "print('Original Data format (note data is strings):')\n",
    "print(df)\n",
    "print('Turn strings into ints and write out cleaned_data.csv')\n",
    "for col in df.columns:\n",
    "    df[col] = df[col].str.replace(\"'\", \"\").astype(float)\n",
    "print(df)\n",
    "df.to_csv('cleaned_data.csv')"
   ]
  },
  {
   "cell_type": "markdown",
   "metadata": {},
   "source": [
    "# model"
   ]
  },
  {
   "cell_type": "code",
   "execution_count": 137,
   "metadata": {
    "ExecuteTime": {
     "end_time": "2020-03-01T08:54:42.054262Z",
     "start_time": "2020-03-01T08:54:42.047226Z"
    },
    "scrolled": true
   },
   "outputs": [
    {
     "name": "stdout",
     "output_type": "stream",
     "text": [
      "Overwriting train.py\n"
     ]
    }
   ],
   "source": [
    "%%writefile train.py\n",
    "# %load model.py\n",
    "import pandas as pd\n",
    "import numpy as np\n",
    "from sklearn.linear_model import LinearRegression\n",
    "from sklearn.metrics import mean_squared_error\n",
    "from joblib import dump\n",
    "import json\n",
    "\n",
    "df = pd.read_csv('cleaned_data.csv', index_col=0)\n",
    "train = df[:-2]\n",
    "valid = df[-2:]\n",
    "y_train = train['target']\n",
    "X_train = train.drop('target', axis=1)\n",
    "y_valid = valid['target']\n",
    "X_valid = valid.drop('target', axis=1)\n",
    "\n",
    "reg = LinearRegression().fit(X_train,y_train)\n",
    "y_pred = reg.predict(X_valid)\n",
    "mse = mean_squared_error(y_valid, y_pred)\n",
    "print(f'Mean Squared Error: {mse}')\n",
    "print(f'Coefficients: {reg.coef_}')\n",
    "      \n",
    "# save model\n",
    "dump(reg, 'linear_regressor.joblib')\n",
    "\n",
    "# write metrics\n",
    "with open('mse.json', 'w+') as f:\n",
    "    json.dump({'mse':mse}, f)\n",
    "with open('coefs.json', 'w+') as f:\n",
    "    json.dump({'coefs':reg.coef_.tolist()}, f)    "
   ]
  },
  {
   "cell_type": "markdown",
   "metadata": {},
   "source": [
    "# check model"
   ]
  },
  {
   "cell_type": "code",
   "execution_count": 131,
   "metadata": {
    "ExecuteTime": {
     "end_time": "2020-03-01T08:09:50.806885Z",
     "start_time": "2020-03-01T08:09:50.800232Z"
    }
   },
   "outputs": [
    {
     "name": "stdout",
     "output_type": "stream",
     "text": [
      "Overwriting check_coeffs.py\n"
     ]
    }
   ],
   "source": [
    "%%writefile check_coeffs.py\n",
    "from joblib import load\n",
    "\n",
    "reg = load('linear_regressor.joblib')\n",
    "print(reg.coef_)"
   ]
  },
  {
   "cell_type": "code",
   "execution_count": 136,
   "metadata": {
    "ExecuteTime": {
     "end_time": "2020-03-01T08:53:52.167652Z",
     "start_time": "2020-03-01T08:53:52.162743Z"
    }
   },
   "outputs": [],
   "source": [
    "reg.coef_ += np.random.randn(4)/20"
   ]
  },
  {
   "cell_type": "code",
   "execution_count": null,
   "metadata": {},
   "outputs": [],
   "source": []
  }
 ],
 "metadata": {
  "kernelspec": {
   "display_name": "Python [conda env:all_ds]",
   "language": "python",
   "name": "conda-env-all_ds-py"
  },
  "language_info": {
   "codemirror_mode": {
    "name": "ipython",
    "version": 3
   },
   "file_extension": ".py",
   "mimetype": "text/x-python",
   "name": "python",
   "nbconvert_exporter": "python",
   "pygments_lexer": "ipython3",
   "version": "3.7.4"
  }
 },
 "nbformat": 4,
 "nbformat_minor": 2
}
